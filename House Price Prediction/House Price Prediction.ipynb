{
  "nbformat": 4,
  "nbformat_minor": 0,
  "metadata": {
    "colab": {
      "provenance": []
    },
    "kernelspec": {
      "name": "python3",
      "display_name": "Python 3"
    },
    "language_info": {
      "name": "python"
    }
  },
  "cells": [
    {
      "cell_type": "markdown",
      "source": [
        "Design a neural network for predicting house price on California dataset on the same dataset apply decision tree regressor and linear regression to predict the house prices and compare which of the three models give least mean absolute error."
      ],
      "metadata": {
        "id": "g4-vWRa3lB63"
      }
    },
    {
      "cell_type": "code",
      "source": [
        "from sklearn.datasets import fetch_california_housing"
      ],
      "metadata": {
        "id": "_bi5tWHXlEBV"
      },
      "execution_count": null,
      "outputs": []
    },
    {
      "cell_type": "code",
      "source": [
        "import pandas as pd\n",
        "import numpy as np"
      ],
      "metadata": {
        "id": "Pe_VQD_klUGQ"
      },
      "execution_count": null,
      "outputs": []
    },
    {
      "cell_type": "code",
      "source": [
        "data = fetch_california_housing()"
      ],
      "metadata": {
        "id": "x_TmBFSllcFV"
      },
      "execution_count": null,
      "outputs": []
    },
    {
      "cell_type": "code",
      "source": [
        "df = pd.DataFrame(data.data, columns = data.feature_names)"
      ],
      "metadata": {
        "id": "rW4WDWl7l9J4"
      },
      "execution_count": null,
      "outputs": []
    },
    {
      "cell_type": "code",
      "source": [
        "df.head()"
      ],
      "metadata": {
        "colab": {
          "base_uri": "https://localhost:8080/",
          "height": 206
        },
        "id": "SaNdp_famEC2",
        "outputId": "73db4dc4-16af-4d68-d51d-d4c628497e7b"
      },
      "execution_count": null,
      "outputs": [
        {
          "output_type": "execute_result",
          "data": {
            "text/plain": [
              "   MedInc  HouseAge  AveRooms  AveBedrms  Population  AveOccup  Latitude  \\\n",
              "0  8.3252      41.0  6.984127   1.023810       322.0  2.555556     37.88   \n",
              "1  8.3014      21.0  6.238137   0.971880      2401.0  2.109842     37.86   \n",
              "2  7.2574      52.0  8.288136   1.073446       496.0  2.802260     37.85   \n",
              "3  5.6431      52.0  5.817352   1.073059       558.0  2.547945     37.85   \n",
              "4  3.8462      52.0  6.281853   1.081081       565.0  2.181467     37.85   \n",
              "\n",
              "   Longitude  \n",
              "0    -122.23  \n",
              "1    -122.22  \n",
              "2    -122.24  \n",
              "3    -122.25  \n",
              "4    -122.25  "
            ],
            "text/html": [
              "\n",
              "\n",
              "  <div id=\"df-b500dd9e-2413-4666-b99c-8e9ac0865fdc\">\n",
              "    <div class=\"colab-df-container\">\n",
              "      <div>\n",
              "<style scoped>\n",
              "    .dataframe tbody tr th:only-of-type {\n",
              "        vertical-align: middle;\n",
              "    }\n",
              "\n",
              "    .dataframe tbody tr th {\n",
              "        vertical-align: top;\n",
              "    }\n",
              "\n",
              "    .dataframe thead th {\n",
              "        text-align: right;\n",
              "    }\n",
              "</style>\n",
              "<table border=\"1\" class=\"dataframe\">\n",
              "  <thead>\n",
              "    <tr style=\"text-align: right;\">\n",
              "      <th></th>\n",
              "      <th>MedInc</th>\n",
              "      <th>HouseAge</th>\n",
              "      <th>AveRooms</th>\n",
              "      <th>AveBedrms</th>\n",
              "      <th>Population</th>\n",
              "      <th>AveOccup</th>\n",
              "      <th>Latitude</th>\n",
              "      <th>Longitude</th>\n",
              "    </tr>\n",
              "  </thead>\n",
              "  <tbody>\n",
              "    <tr>\n",
              "      <th>0</th>\n",
              "      <td>8.3252</td>\n",
              "      <td>41.0</td>\n",
              "      <td>6.984127</td>\n",
              "      <td>1.023810</td>\n",
              "      <td>322.0</td>\n",
              "      <td>2.555556</td>\n",
              "      <td>37.88</td>\n",
              "      <td>-122.23</td>\n",
              "    </tr>\n",
              "    <tr>\n",
              "      <th>1</th>\n",
              "      <td>8.3014</td>\n",
              "      <td>21.0</td>\n",
              "      <td>6.238137</td>\n",
              "      <td>0.971880</td>\n",
              "      <td>2401.0</td>\n",
              "      <td>2.109842</td>\n",
              "      <td>37.86</td>\n",
              "      <td>-122.22</td>\n",
              "    </tr>\n",
              "    <tr>\n",
              "      <th>2</th>\n",
              "      <td>7.2574</td>\n",
              "      <td>52.0</td>\n",
              "      <td>8.288136</td>\n",
              "      <td>1.073446</td>\n",
              "      <td>496.0</td>\n",
              "      <td>2.802260</td>\n",
              "      <td>37.85</td>\n",
              "      <td>-122.24</td>\n",
              "    </tr>\n",
              "    <tr>\n",
              "      <th>3</th>\n",
              "      <td>5.6431</td>\n",
              "      <td>52.0</td>\n",
              "      <td>5.817352</td>\n",
              "      <td>1.073059</td>\n",
              "      <td>558.0</td>\n",
              "      <td>2.547945</td>\n",
              "      <td>37.85</td>\n",
              "      <td>-122.25</td>\n",
              "    </tr>\n",
              "    <tr>\n",
              "      <th>4</th>\n",
              "      <td>3.8462</td>\n",
              "      <td>52.0</td>\n",
              "      <td>6.281853</td>\n",
              "      <td>1.081081</td>\n",
              "      <td>565.0</td>\n",
              "      <td>2.181467</td>\n",
              "      <td>37.85</td>\n",
              "      <td>-122.25</td>\n",
              "    </tr>\n",
              "  </tbody>\n",
              "</table>\n",
              "</div>\n",
              "      <button class=\"colab-df-convert\" onclick=\"convertToInteractive('df-b500dd9e-2413-4666-b99c-8e9ac0865fdc')\"\n",
              "              title=\"Convert this dataframe to an interactive table.\"\n",
              "              style=\"display:none;\">\n",
              "\n",
              "  <svg xmlns=\"http://www.w3.org/2000/svg\" height=\"24px\"viewBox=\"0 0 24 24\"\n",
              "       width=\"24px\">\n",
              "    <path d=\"M0 0h24v24H0V0z\" fill=\"none\"/>\n",
              "    <path d=\"M18.56 5.44l.94 2.06.94-2.06 2.06-.94-2.06-.94-.94-2.06-.94 2.06-2.06.94zm-11 1L8.5 8.5l.94-2.06 2.06-.94-2.06-.94L8.5 2.5l-.94 2.06-2.06.94zm10 10l.94 2.06.94-2.06 2.06-.94-2.06-.94-.94-2.06-.94 2.06-2.06.94z\"/><path d=\"M17.41 7.96l-1.37-1.37c-.4-.4-.92-.59-1.43-.59-.52 0-1.04.2-1.43.59L10.3 9.45l-7.72 7.72c-.78.78-.78 2.05 0 2.83L4 21.41c.39.39.9.59 1.41.59.51 0 1.02-.2 1.41-.59l7.78-7.78 2.81-2.81c.8-.78.8-2.07 0-2.86zM5.41 20L4 18.59l7.72-7.72 1.47 1.35L5.41 20z\"/>\n",
              "  </svg>\n",
              "      </button>\n",
              "\n",
              "\n",
              "\n",
              "    <div id=\"df-72d458d4-34fa-4c8b-86fd-8ece3613ad58\">\n",
              "      <button class=\"colab-df-quickchart\" onclick=\"quickchart('df-72d458d4-34fa-4c8b-86fd-8ece3613ad58')\"\n",
              "              title=\"Suggest charts.\"\n",
              "              style=\"display:none;\">\n",
              "\n",
              "<svg xmlns=\"http://www.w3.org/2000/svg\" height=\"24px\"viewBox=\"0 0 24 24\"\n",
              "     width=\"24px\">\n",
              "    <g>\n",
              "        <path d=\"M19 3H5c-1.1 0-2 .9-2 2v14c0 1.1.9 2 2 2h14c1.1 0 2-.9 2-2V5c0-1.1-.9-2-2-2zM9 17H7v-7h2v7zm4 0h-2V7h2v10zm4 0h-2v-4h2v4z\"/>\n",
              "    </g>\n",
              "</svg>\n",
              "      </button>\n",
              "    </div>\n",
              "\n",
              "<style>\n",
              "  .colab-df-quickchart {\n",
              "    background-color: #E8F0FE;\n",
              "    border: none;\n",
              "    border-radius: 50%;\n",
              "    cursor: pointer;\n",
              "    display: none;\n",
              "    fill: #1967D2;\n",
              "    height: 32px;\n",
              "    padding: 0 0 0 0;\n",
              "    width: 32px;\n",
              "  }\n",
              "\n",
              "  .colab-df-quickchart:hover {\n",
              "    background-color: #E2EBFA;\n",
              "    box-shadow: 0px 1px 2px rgba(60, 64, 67, 0.3), 0px 1px 3px 1px rgba(60, 64, 67, 0.15);\n",
              "    fill: #174EA6;\n",
              "  }\n",
              "\n",
              "  [theme=dark] .colab-df-quickchart {\n",
              "    background-color: #3B4455;\n",
              "    fill: #D2E3FC;\n",
              "  }\n",
              "\n",
              "  [theme=dark] .colab-df-quickchart:hover {\n",
              "    background-color: #434B5C;\n",
              "    box-shadow: 0px 1px 3px 1px rgba(0, 0, 0, 0.15);\n",
              "    filter: drop-shadow(0px 1px 2px rgba(0, 0, 0, 0.3));\n",
              "    fill: #FFFFFF;\n",
              "  }\n",
              "</style>\n",
              "\n",
              "    <script>\n",
              "      async function quickchart(key) {\n",
              "        const containerElement = document.querySelector('#' + key);\n",
              "        const charts = await google.colab.kernel.invokeFunction(\n",
              "            'suggestCharts', [key], {});\n",
              "      }\n",
              "    </script>\n",
              "\n",
              "\n",
              "      <script>\n",
              "\n",
              "function displayQuickchartButton(domScope) {\n",
              "  let quickchartButtonEl =\n",
              "    domScope.querySelector('#df-72d458d4-34fa-4c8b-86fd-8ece3613ad58 button.colab-df-quickchart');\n",
              "  quickchartButtonEl.style.display =\n",
              "    google.colab.kernel.accessAllowed ? 'block' : 'none';\n",
              "}\n",
              "\n",
              "        displayQuickchartButton(document);\n",
              "      </script>\n",
              "      <style>\n",
              "    .colab-df-container {\n",
              "      display:flex;\n",
              "      flex-wrap:wrap;\n",
              "      gap: 12px;\n",
              "    }\n",
              "\n",
              "    .colab-df-convert {\n",
              "      background-color: #E8F0FE;\n",
              "      border: none;\n",
              "      border-radius: 50%;\n",
              "      cursor: pointer;\n",
              "      display: none;\n",
              "      fill: #1967D2;\n",
              "      height: 32px;\n",
              "      padding: 0 0 0 0;\n",
              "      width: 32px;\n",
              "    }\n",
              "\n",
              "    .colab-df-convert:hover {\n",
              "      background-color: #E2EBFA;\n",
              "      box-shadow: 0px 1px 2px rgba(60, 64, 67, 0.3), 0px 1px 3px 1px rgba(60, 64, 67, 0.15);\n",
              "      fill: #174EA6;\n",
              "    }\n",
              "\n",
              "    [theme=dark] .colab-df-convert {\n",
              "      background-color: #3B4455;\n",
              "      fill: #D2E3FC;\n",
              "    }\n",
              "\n",
              "    [theme=dark] .colab-df-convert:hover {\n",
              "      background-color: #434B5C;\n",
              "      box-shadow: 0px 1px 3px 1px rgba(0, 0, 0, 0.15);\n",
              "      filter: drop-shadow(0px 1px 2px rgba(0, 0, 0, 0.3));\n",
              "      fill: #FFFFFF;\n",
              "    }\n",
              "  </style>\n",
              "\n",
              "      <script>\n",
              "        const buttonEl =\n",
              "          document.querySelector('#df-b500dd9e-2413-4666-b99c-8e9ac0865fdc button.colab-df-convert');\n",
              "        buttonEl.style.display =\n",
              "          google.colab.kernel.accessAllowed ? 'block' : 'none';\n",
              "\n",
              "        async function convertToInteractive(key) {\n",
              "          const element = document.querySelector('#df-b500dd9e-2413-4666-b99c-8e9ac0865fdc');\n",
              "          const dataTable =\n",
              "            await google.colab.kernel.invokeFunction('convertToInteractive',\n",
              "                                                     [key], {});\n",
              "          if (!dataTable) return;\n",
              "\n",
              "          const docLinkHtml = 'Like what you see? Visit the ' +\n",
              "            '<a target=\"_blank\" href=https://colab.research.google.com/notebooks/data_table.ipynb>data table notebook</a>'\n",
              "            + ' to learn more about interactive tables.';\n",
              "          element.innerHTML = '';\n",
              "          dataTable['output_type'] = 'display_data';\n",
              "          await google.colab.output.renderOutput(dataTable, element);\n",
              "          const docLink = document.createElement('div');\n",
              "          docLink.innerHTML = docLinkHtml;\n",
              "          element.appendChild(docLink);\n",
              "        }\n",
              "      </script>\n",
              "    </div>\n",
              "  </div>\n"
            ]
          },
          "metadata": {},
          "execution_count": 5
        }
      ]
    },
    {
      "cell_type": "code",
      "source": [
        "df['Price'] = data.target"
      ],
      "metadata": {
        "id": "WhAHNYIrmE7e"
      },
      "execution_count": null,
      "outputs": []
    },
    {
      "cell_type": "code",
      "source": [
        "df.head()"
      ],
      "metadata": {
        "colab": {
          "base_uri": "https://localhost:8080/",
          "height": 206
        },
        "id": "DbEgE-e-mJzf",
        "outputId": "2a56d5a9-199f-4582-a8f8-c5617f75c544"
      },
      "execution_count": null,
      "outputs": [
        {
          "output_type": "execute_result",
          "data": {
            "text/plain": [
              "   MedInc  HouseAge  AveRooms  AveBedrms  Population  AveOccup  Latitude  \\\n",
              "0  8.3252      41.0  6.984127   1.023810       322.0  2.555556     37.88   \n",
              "1  8.3014      21.0  6.238137   0.971880      2401.0  2.109842     37.86   \n",
              "2  7.2574      52.0  8.288136   1.073446       496.0  2.802260     37.85   \n",
              "3  5.6431      52.0  5.817352   1.073059       558.0  2.547945     37.85   \n",
              "4  3.8462      52.0  6.281853   1.081081       565.0  2.181467     37.85   \n",
              "\n",
              "   Longitude  Price  \n",
              "0    -122.23  4.526  \n",
              "1    -122.22  3.585  \n",
              "2    -122.24  3.521  \n",
              "3    -122.25  3.413  \n",
              "4    -122.25  3.422  "
            ],
            "text/html": [
              "\n",
              "\n",
              "  <div id=\"df-5f18ec6a-58d8-4cc0-ac8c-61e45c8ba9aa\">\n",
              "    <div class=\"colab-df-container\">\n",
              "      <div>\n",
              "<style scoped>\n",
              "    .dataframe tbody tr th:only-of-type {\n",
              "        vertical-align: middle;\n",
              "    }\n",
              "\n",
              "    .dataframe tbody tr th {\n",
              "        vertical-align: top;\n",
              "    }\n",
              "\n",
              "    .dataframe thead th {\n",
              "        text-align: right;\n",
              "    }\n",
              "</style>\n",
              "<table border=\"1\" class=\"dataframe\">\n",
              "  <thead>\n",
              "    <tr style=\"text-align: right;\">\n",
              "      <th></th>\n",
              "      <th>MedInc</th>\n",
              "      <th>HouseAge</th>\n",
              "      <th>AveRooms</th>\n",
              "      <th>AveBedrms</th>\n",
              "      <th>Population</th>\n",
              "      <th>AveOccup</th>\n",
              "      <th>Latitude</th>\n",
              "      <th>Longitude</th>\n",
              "      <th>Price</th>\n",
              "    </tr>\n",
              "  </thead>\n",
              "  <tbody>\n",
              "    <tr>\n",
              "      <th>0</th>\n",
              "      <td>8.3252</td>\n",
              "      <td>41.0</td>\n",
              "      <td>6.984127</td>\n",
              "      <td>1.023810</td>\n",
              "      <td>322.0</td>\n",
              "      <td>2.555556</td>\n",
              "      <td>37.88</td>\n",
              "      <td>-122.23</td>\n",
              "      <td>4.526</td>\n",
              "    </tr>\n",
              "    <tr>\n",
              "      <th>1</th>\n",
              "      <td>8.3014</td>\n",
              "      <td>21.0</td>\n",
              "      <td>6.238137</td>\n",
              "      <td>0.971880</td>\n",
              "      <td>2401.0</td>\n",
              "      <td>2.109842</td>\n",
              "      <td>37.86</td>\n",
              "      <td>-122.22</td>\n",
              "      <td>3.585</td>\n",
              "    </tr>\n",
              "    <tr>\n",
              "      <th>2</th>\n",
              "      <td>7.2574</td>\n",
              "      <td>52.0</td>\n",
              "      <td>8.288136</td>\n",
              "      <td>1.073446</td>\n",
              "      <td>496.0</td>\n",
              "      <td>2.802260</td>\n",
              "      <td>37.85</td>\n",
              "      <td>-122.24</td>\n",
              "      <td>3.521</td>\n",
              "    </tr>\n",
              "    <tr>\n",
              "      <th>3</th>\n",
              "      <td>5.6431</td>\n",
              "      <td>52.0</td>\n",
              "      <td>5.817352</td>\n",
              "      <td>1.073059</td>\n",
              "      <td>558.0</td>\n",
              "      <td>2.547945</td>\n",
              "      <td>37.85</td>\n",
              "      <td>-122.25</td>\n",
              "      <td>3.413</td>\n",
              "    </tr>\n",
              "    <tr>\n",
              "      <th>4</th>\n",
              "      <td>3.8462</td>\n",
              "      <td>52.0</td>\n",
              "      <td>6.281853</td>\n",
              "      <td>1.081081</td>\n",
              "      <td>565.0</td>\n",
              "      <td>2.181467</td>\n",
              "      <td>37.85</td>\n",
              "      <td>-122.25</td>\n",
              "      <td>3.422</td>\n",
              "    </tr>\n",
              "  </tbody>\n",
              "</table>\n",
              "</div>\n",
              "      <button class=\"colab-df-convert\" onclick=\"convertToInteractive('df-5f18ec6a-58d8-4cc0-ac8c-61e45c8ba9aa')\"\n",
              "              title=\"Convert this dataframe to an interactive table.\"\n",
              "              style=\"display:none;\">\n",
              "\n",
              "  <svg xmlns=\"http://www.w3.org/2000/svg\" height=\"24px\"viewBox=\"0 0 24 24\"\n",
              "       width=\"24px\">\n",
              "    <path d=\"M0 0h24v24H0V0z\" fill=\"none\"/>\n",
              "    <path d=\"M18.56 5.44l.94 2.06.94-2.06 2.06-.94-2.06-.94-.94-2.06-.94 2.06-2.06.94zm-11 1L8.5 8.5l.94-2.06 2.06-.94-2.06-.94L8.5 2.5l-.94 2.06-2.06.94zm10 10l.94 2.06.94-2.06 2.06-.94-2.06-.94-.94-2.06-.94 2.06-2.06.94z\"/><path d=\"M17.41 7.96l-1.37-1.37c-.4-.4-.92-.59-1.43-.59-.52 0-1.04.2-1.43.59L10.3 9.45l-7.72 7.72c-.78.78-.78 2.05 0 2.83L4 21.41c.39.39.9.59 1.41.59.51 0 1.02-.2 1.41-.59l7.78-7.78 2.81-2.81c.8-.78.8-2.07 0-2.86zM5.41 20L4 18.59l7.72-7.72 1.47 1.35L5.41 20z\"/>\n",
              "  </svg>\n",
              "      </button>\n",
              "\n",
              "\n",
              "\n",
              "    <div id=\"df-18112daa-6300-4563-b92e-01e19836c3d1\">\n",
              "      <button class=\"colab-df-quickchart\" onclick=\"quickchart('df-18112daa-6300-4563-b92e-01e19836c3d1')\"\n",
              "              title=\"Suggest charts.\"\n",
              "              style=\"display:none;\">\n",
              "\n",
              "<svg xmlns=\"http://www.w3.org/2000/svg\" height=\"24px\"viewBox=\"0 0 24 24\"\n",
              "     width=\"24px\">\n",
              "    <g>\n",
              "        <path d=\"M19 3H5c-1.1 0-2 .9-2 2v14c0 1.1.9 2 2 2h14c1.1 0 2-.9 2-2V5c0-1.1-.9-2-2-2zM9 17H7v-7h2v7zm4 0h-2V7h2v10zm4 0h-2v-4h2v4z\"/>\n",
              "    </g>\n",
              "</svg>\n",
              "      </button>\n",
              "    </div>\n",
              "\n",
              "<style>\n",
              "  .colab-df-quickchart {\n",
              "    background-color: #E8F0FE;\n",
              "    border: none;\n",
              "    border-radius: 50%;\n",
              "    cursor: pointer;\n",
              "    display: none;\n",
              "    fill: #1967D2;\n",
              "    height: 32px;\n",
              "    padding: 0 0 0 0;\n",
              "    width: 32px;\n",
              "  }\n",
              "\n",
              "  .colab-df-quickchart:hover {\n",
              "    background-color: #E2EBFA;\n",
              "    box-shadow: 0px 1px 2px rgba(60, 64, 67, 0.3), 0px 1px 3px 1px rgba(60, 64, 67, 0.15);\n",
              "    fill: #174EA6;\n",
              "  }\n",
              "\n",
              "  [theme=dark] .colab-df-quickchart {\n",
              "    background-color: #3B4455;\n",
              "    fill: #D2E3FC;\n",
              "  }\n",
              "\n",
              "  [theme=dark] .colab-df-quickchart:hover {\n",
              "    background-color: #434B5C;\n",
              "    box-shadow: 0px 1px 3px 1px rgba(0, 0, 0, 0.15);\n",
              "    filter: drop-shadow(0px 1px 2px rgba(0, 0, 0, 0.3));\n",
              "    fill: #FFFFFF;\n",
              "  }\n",
              "</style>\n",
              "\n",
              "    <script>\n",
              "      async function quickchart(key) {\n",
              "        const containerElement = document.querySelector('#' + key);\n",
              "        const charts = await google.colab.kernel.invokeFunction(\n",
              "            'suggestCharts', [key], {});\n",
              "      }\n",
              "    </script>\n",
              "\n",
              "\n",
              "      <script>\n",
              "\n",
              "function displayQuickchartButton(domScope) {\n",
              "  let quickchartButtonEl =\n",
              "    domScope.querySelector('#df-18112daa-6300-4563-b92e-01e19836c3d1 button.colab-df-quickchart');\n",
              "  quickchartButtonEl.style.display =\n",
              "    google.colab.kernel.accessAllowed ? 'block' : 'none';\n",
              "}\n",
              "\n",
              "        displayQuickchartButton(document);\n",
              "      </script>\n",
              "      <style>\n",
              "    .colab-df-container {\n",
              "      display:flex;\n",
              "      flex-wrap:wrap;\n",
              "      gap: 12px;\n",
              "    }\n",
              "\n",
              "    .colab-df-convert {\n",
              "      background-color: #E8F0FE;\n",
              "      border: none;\n",
              "      border-radius: 50%;\n",
              "      cursor: pointer;\n",
              "      display: none;\n",
              "      fill: #1967D2;\n",
              "      height: 32px;\n",
              "      padding: 0 0 0 0;\n",
              "      width: 32px;\n",
              "    }\n",
              "\n",
              "    .colab-df-convert:hover {\n",
              "      background-color: #E2EBFA;\n",
              "      box-shadow: 0px 1px 2px rgba(60, 64, 67, 0.3), 0px 1px 3px 1px rgba(60, 64, 67, 0.15);\n",
              "      fill: #174EA6;\n",
              "    }\n",
              "\n",
              "    [theme=dark] .colab-df-convert {\n",
              "      background-color: #3B4455;\n",
              "      fill: #D2E3FC;\n",
              "    }\n",
              "\n",
              "    [theme=dark] .colab-df-convert:hover {\n",
              "      background-color: #434B5C;\n",
              "      box-shadow: 0px 1px 3px 1px rgba(0, 0, 0, 0.15);\n",
              "      filter: drop-shadow(0px 1px 2px rgba(0, 0, 0, 0.3));\n",
              "      fill: #FFFFFF;\n",
              "    }\n",
              "  </style>\n",
              "\n",
              "      <script>\n",
              "        const buttonEl =\n",
              "          document.querySelector('#df-5f18ec6a-58d8-4cc0-ac8c-61e45c8ba9aa button.colab-df-convert');\n",
              "        buttonEl.style.display =\n",
              "          google.colab.kernel.accessAllowed ? 'block' : 'none';\n",
              "\n",
              "        async function convertToInteractive(key) {\n",
              "          const element = document.querySelector('#df-5f18ec6a-58d8-4cc0-ac8c-61e45c8ba9aa');\n",
              "          const dataTable =\n",
              "            await google.colab.kernel.invokeFunction('convertToInteractive',\n",
              "                                                     [key], {});\n",
              "          if (!dataTable) return;\n",
              "\n",
              "          const docLinkHtml = 'Like what you see? Visit the ' +\n",
              "            '<a target=\"_blank\" href=https://colab.research.google.com/notebooks/data_table.ipynb>data table notebook</a>'\n",
              "            + ' to learn more about interactive tables.';\n",
              "          element.innerHTML = '';\n",
              "          dataTable['output_type'] = 'display_data';\n",
              "          await google.colab.output.renderOutput(dataTable, element);\n",
              "          const docLink = document.createElement('div');\n",
              "          docLink.innerHTML = docLinkHtml;\n",
              "          element.appendChild(docLink);\n",
              "        }\n",
              "      </script>\n",
              "    </div>\n",
              "  </div>\n"
            ]
          },
          "metadata": {},
          "execution_count": 7
        }
      ]
    },
    {
      "cell_type": "code",
      "source": [],
      "metadata": {
        "id": "lD_XydjqmLXP"
      },
      "execution_count": null,
      "outputs": []
    },
    {
      "cell_type": "code",
      "source": [
        "x = df.iloc[:, :-1]"
      ],
      "metadata": {
        "id": "oGaoD3hNmYjv"
      },
      "execution_count": null,
      "outputs": []
    },
    {
      "cell_type": "code",
      "source": [
        "y = df.iloc[:, -1]"
      ],
      "metadata": {
        "id": "lnpZvlxmmfxm"
      },
      "execution_count": null,
      "outputs": []
    },
    {
      "cell_type": "code",
      "source": [
        "x.shape"
      ],
      "metadata": {
        "colab": {
          "base_uri": "https://localhost:8080/"
        },
        "id": "U300zRJmmlon",
        "outputId": "791e927a-1535-4485-b8db-07e148ce7c4a"
      },
      "execution_count": null,
      "outputs": [
        {
          "output_type": "execute_result",
          "data": {
            "text/plain": [
              "(20640, 8)"
            ]
          },
          "metadata": {},
          "execution_count": 10
        }
      ]
    },
    {
      "cell_type": "code",
      "source": [
        "y.shape"
      ],
      "metadata": {
        "colab": {
          "base_uri": "https://localhost:8080/"
        },
        "id": "4hQhvysVmmR3",
        "outputId": "e749f466-24cb-40f6-a634-bbc262d655f8"
      },
      "execution_count": null,
      "outputs": [
        {
          "output_type": "execute_result",
          "data": {
            "text/plain": [
              "(20640,)"
            ]
          },
          "metadata": {},
          "execution_count": 11
        }
      ]
    },
    {
      "cell_type": "code",
      "source": [
        "from sklearn.model_selection import train_test_split"
      ],
      "metadata": {
        "id": "KiWTC4j7mm4P"
      },
      "execution_count": null,
      "outputs": []
    },
    {
      "cell_type": "code",
      "source": [
        "xtrain, xtest, ytrain, ytest = train_test_split(x, y, test_size = 0.25, random_state = 1)"
      ],
      "metadata": {
        "id": "FvKKc703ngeg"
      },
      "execution_count": null,
      "outputs": []
    },
    {
      "cell_type": "code",
      "source": [
        "xtrain.shape"
      ],
      "metadata": {
        "colab": {
          "base_uri": "https://localhost:8080/"
        },
        "id": "rYK-aD4lnpq3",
        "outputId": "2b9a7d43-341e-4562-fdfe-1c05835dd16b"
      },
      "execution_count": null,
      "outputs": [
        {
          "output_type": "execute_result",
          "data": {
            "text/plain": [
              "(15480, 8)"
            ]
          },
          "metadata": {},
          "execution_count": 14
        }
      ]
    },
    {
      "cell_type": "code",
      "source": [
        "xtest.shape"
      ],
      "metadata": {
        "colab": {
          "base_uri": "https://localhost:8080/"
        },
        "id": "8gsXSODPnqd_",
        "outputId": "68b04a38-7450-421c-a3dd-1dfc57fc291d"
      },
      "execution_count": null,
      "outputs": [
        {
          "output_type": "execute_result",
          "data": {
            "text/plain": [
              "(5160, 8)"
            ]
          },
          "metadata": {},
          "execution_count": 15
        }
      ]
    },
    {
      "cell_type": "code",
      "source": [
        "ytrain.shape"
      ],
      "metadata": {
        "colab": {
          "base_uri": "https://localhost:8080/"
        },
        "id": "wFhoVF-cnton",
        "outputId": "4e975493-8511-464b-bc23-85811bb7bbdb"
      },
      "execution_count": null,
      "outputs": [
        {
          "output_type": "execute_result",
          "data": {
            "text/plain": [
              "(15480,)"
            ]
          },
          "metadata": {},
          "execution_count": 16
        }
      ]
    },
    {
      "cell_type": "code",
      "source": [
        "ytest.shape"
      ],
      "metadata": {
        "colab": {
          "base_uri": "https://localhost:8080/"
        },
        "id": "KeztaIz8nvG_",
        "outputId": "6821f930-a056-4d64-e23a-a9758ec6ca45"
      },
      "execution_count": null,
      "outputs": [
        {
          "output_type": "execute_result",
          "data": {
            "text/plain": [
              "(5160,)"
            ]
          },
          "metadata": {},
          "execution_count": 17
        }
      ]
    },
    {
      "cell_type": "code",
      "source": [
        "from keras.models import Sequential"
      ],
      "metadata": {
        "id": "e4cWhN81nv1_"
      },
      "execution_count": null,
      "outputs": []
    },
    {
      "cell_type": "code",
      "source": [
        "from keras.layers import Dense"
      ],
      "metadata": {
        "id": "HNJ_8t8boFEB"
      },
      "execution_count": null,
      "outputs": []
    },
    {
      "cell_type": "code",
      "source": [
        "model = Sequential()"
      ],
      "metadata": {
        "id": "Qf9My8YHoAgf"
      },
      "execution_count": null,
      "outputs": []
    },
    {
      "cell_type": "code",
      "source": [
        "model.add(Dense(16, input_dim = 8, activation = 'relu'))\n",
        "\n",
        "model.add(Dense(1, activation='linear'))"
      ],
      "metadata": {
        "id": "OC0L3np7oCTv"
      },
      "execution_count": null,
      "outputs": []
    },
    {
      "cell_type": "code",
      "source": [
        "model.compile(loss = 'mean_squared_error', optimizer='adam', metrics = 'mean_absolute_error')"
      ],
      "metadata": {
        "id": "aPzPcZHjoXW4"
      },
      "execution_count": null,
      "outputs": []
    },
    {
      "cell_type": "code",
      "source": [
        "model.fit(xtrain, ytrain, epochs = 100, batch_size = 50)"
      ],
      "metadata": {
        "colab": {
          "base_uri": "https://localhost:8080/"
        },
        "id": "yXm9x6ZVpJ9Q",
        "outputId": "c6f6569f-9f2d-4bae-ab98-52989eb537ec"
      },
      "execution_count": null,
      "outputs": [
        {
          "output_type": "stream",
          "name": "stdout",
          "text": [
            "Epoch 1/100\n",
            "310/310 [==============================] - 1s 2ms/step - loss: 11439.9844 - mean_absolute_error: 48.1870\n",
            "Epoch 2/100\n",
            "310/310 [==============================] - 1s 2ms/step - loss: 14.2179 - mean_absolute_error: 1.8077\n",
            "Epoch 3/100\n",
            "310/310 [==============================] - 1s 2ms/step - loss: 9.9156 - mean_absolute_error: 1.2419\n",
            "Epoch 4/100\n",
            "310/310 [==============================] - 1s 2ms/step - loss: 8.1697 - mean_absolute_error: 1.1302\n",
            "Epoch 5/100\n",
            "310/310 [==============================] - 1s 2ms/step - loss: 7.0310 - mean_absolute_error: 1.1192\n",
            "Epoch 6/100\n",
            "310/310 [==============================] - 1s 2ms/step - loss: 5.9112 - mean_absolute_error: 1.0931\n",
            "Epoch 7/100\n",
            "310/310 [==============================] - 1s 2ms/step - loss: 4.8925 - mean_absolute_error: 1.0541\n",
            "Epoch 8/100\n",
            "310/310 [==============================] - 1s 2ms/step - loss: 4.0710 - mean_absolute_error: 1.0324\n",
            "Epoch 9/100\n",
            "310/310 [==============================] - 1s 2ms/step - loss: 3.3632 - mean_absolute_error: 1.0127\n",
            "Epoch 10/100\n",
            "310/310 [==============================] - 1s 2ms/step - loss: 2.7556 - mean_absolute_error: 0.9750\n",
            "Epoch 11/100\n",
            "310/310 [==============================] - 1s 2ms/step - loss: 2.2510 - mean_absolute_error: 0.9461\n",
            "Epoch 12/100\n",
            "310/310 [==============================] - 1s 2ms/step - loss: 1.9276 - mean_absolute_error: 0.9277\n",
            "Epoch 13/100\n",
            "310/310 [==============================] - 1s 2ms/step - loss: 1.6495 - mean_absolute_error: 0.9065\n",
            "Epoch 14/100\n",
            "310/310 [==============================] - 1s 2ms/step - loss: 1.4568 - mean_absolute_error: 0.8842\n",
            "Epoch 15/100\n",
            "310/310 [==============================] - 1s 2ms/step - loss: 1.3383 - mean_absolute_error: 0.8744\n",
            "Epoch 16/100\n",
            "310/310 [==============================] - 1s 2ms/step - loss: 1.2501 - mean_absolute_error: 0.8545\n",
            "Epoch 17/100\n",
            "310/310 [==============================] - 1s 2ms/step - loss: 1.2076 - mean_absolute_error: 0.8443\n",
            "Epoch 18/100\n",
            "310/310 [==============================] - 1s 2ms/step - loss: 1.1631 - mean_absolute_error: 0.8329\n",
            "Epoch 19/100\n",
            "310/310 [==============================] - 1s 2ms/step - loss: 1.1473 - mean_absolute_error: 0.8270\n",
            "Epoch 20/100\n",
            "310/310 [==============================] - 1s 2ms/step - loss: 1.0979 - mean_absolute_error: 0.8075\n",
            "Epoch 21/100\n",
            "310/310 [==============================] - 1s 2ms/step - loss: 1.0533 - mean_absolute_error: 0.7892\n",
            "Epoch 22/100\n",
            "310/310 [==============================] - 1s 2ms/step - loss: 1.0336 - mean_absolute_error: 0.7811\n",
            "Epoch 23/100\n",
            "310/310 [==============================] - 0s 2ms/step - loss: 0.9911 - mean_absolute_error: 0.7640\n",
            "Epoch 24/100\n",
            "310/310 [==============================] - 1s 2ms/step - loss: 0.9946 - mean_absolute_error: 0.7621\n",
            "Epoch 25/100\n",
            "310/310 [==============================] - 0s 2ms/step - loss: 0.9773 - mean_absolute_error: 0.7548\n",
            "Epoch 26/100\n",
            "310/310 [==============================] - 1s 2ms/step - loss: 0.9242 - mean_absolute_error: 0.7367\n",
            "Epoch 27/100\n",
            "310/310 [==============================] - 1s 2ms/step - loss: 0.9086 - mean_absolute_error: 0.7282\n",
            "Epoch 28/100\n",
            "310/310 [==============================] - 1s 2ms/step - loss: 1.0481 - mean_absolute_error: 0.7775\n",
            "Epoch 29/100\n",
            "310/310 [==============================] - 1s 2ms/step - loss: 0.8927 - mean_absolute_error: 0.7216\n",
            "Epoch 30/100\n",
            "310/310 [==============================] - 1s 2ms/step - loss: 1.3219 - mean_absolute_error: 0.7935\n",
            "Epoch 31/100\n",
            "310/310 [==============================] - 1s 2ms/step - loss: 0.8982 - mean_absolute_error: 0.7156\n",
            "Epoch 32/100\n",
            "310/310 [==============================] - 1s 2ms/step - loss: 1.1956 - mean_absolute_error: 0.8001\n",
            "Epoch 33/100\n",
            "310/310 [==============================] - 1s 2ms/step - loss: 0.8080 - mean_absolute_error: 0.6813\n",
            "Epoch 34/100\n",
            "310/310 [==============================] - 1s 2ms/step - loss: 1.5914 - mean_absolute_error: 0.8468\n",
            "Epoch 35/100\n",
            "310/310 [==============================] - 1s 2ms/step - loss: 0.8248 - mean_absolute_error: 0.6880\n",
            "Epoch 36/100\n",
            "310/310 [==============================] - 1s 2ms/step - loss: 1.1384 - mean_absolute_error: 0.7729\n",
            "Epoch 37/100\n",
            "310/310 [==============================] - 1s 2ms/step - loss: 0.8621 - mean_absolute_error: 0.6876\n",
            "Epoch 38/100\n",
            "310/310 [==============================] - 1s 2ms/step - loss: 0.8945 - mean_absolute_error: 0.7120\n",
            "Epoch 39/100\n",
            "310/310 [==============================] - 1s 2ms/step - loss: 0.9549 - mean_absolute_error: 0.7224\n",
            "Epoch 40/100\n",
            "310/310 [==============================] - 1s 2ms/step - loss: 0.8876 - mean_absolute_error: 0.7090\n",
            "Epoch 41/100\n",
            "310/310 [==============================] - 1s 2ms/step - loss: 1.2896 - mean_absolute_error: 0.8091\n",
            "Epoch 42/100\n",
            "310/310 [==============================] - 1s 2ms/step - loss: 0.9627 - mean_absolute_error: 0.6959\n",
            "Epoch 43/100\n",
            "310/310 [==============================] - 1s 2ms/step - loss: 0.8171 - mean_absolute_error: 0.6763\n",
            "Epoch 44/100\n",
            "310/310 [==============================] - 1s 2ms/step - loss: 0.7782 - mean_absolute_error: 0.6632\n",
            "Epoch 45/100\n",
            "310/310 [==============================] - 1s 2ms/step - loss: 0.8400 - mean_absolute_error: 0.6900\n",
            "Epoch 46/100\n",
            "310/310 [==============================] - 1s 2ms/step - loss: 0.7097 - mean_absolute_error: 0.6353\n",
            "Epoch 47/100\n",
            "310/310 [==============================] - 1s 2ms/step - loss: 1.1066 - mean_absolute_error: 0.7653\n",
            "Epoch 48/100\n",
            "310/310 [==============================] - 1s 2ms/step - loss: 1.2042 - mean_absolute_error: 0.7627\n",
            "Epoch 49/100\n",
            "310/310 [==============================] - 1s 2ms/step - loss: 0.7943 - mean_absolute_error: 0.6668\n",
            "Epoch 50/100\n",
            "310/310 [==============================] - 1s 2ms/step - loss: 0.7175 - mean_absolute_error: 0.6349\n",
            "Epoch 51/100\n",
            "310/310 [==============================] - 1s 2ms/step - loss: 0.7271 - mean_absolute_error: 0.6417\n",
            "Epoch 52/100\n",
            "310/310 [==============================] - 1s 2ms/step - loss: 0.9030 - mean_absolute_error: 0.6955\n",
            "Epoch 53/100\n",
            "310/310 [==============================] - 1s 2ms/step - loss: 0.6856 - mean_absolute_error: 0.6208\n",
            "Epoch 54/100\n",
            "310/310 [==============================] - 1s 2ms/step - loss: 0.8710 - mean_absolute_error: 0.6994\n",
            "Epoch 55/100\n",
            "310/310 [==============================] - 1s 2ms/step - loss: 0.7355 - mean_absolute_error: 0.6474\n",
            "Epoch 56/100\n",
            "310/310 [==============================] - 1s 2ms/step - loss: 0.7824 - mean_absolute_error: 0.6603\n",
            "Epoch 57/100\n",
            "310/310 [==============================] - 1s 2ms/step - loss: 0.9724 - mean_absolute_error: 0.6908\n",
            "Epoch 58/100\n",
            "310/310 [==============================] - 1s 2ms/step - loss: 1.2412 - mean_absolute_error: 0.7490\n",
            "Epoch 59/100\n",
            "310/310 [==============================] - 1s 2ms/step - loss: 1.0044 - mean_absolute_error: 0.7243\n",
            "Epoch 60/100\n",
            "310/310 [==============================] - 1s 2ms/step - loss: 0.7183 - mean_absolute_error: 0.6335\n",
            "Epoch 61/100\n",
            "310/310 [==============================] - 1s 2ms/step - loss: 0.6502 - mean_absolute_error: 0.6051\n",
            "Epoch 62/100\n",
            "310/310 [==============================] - 1s 2ms/step - loss: 0.6992 - mean_absolute_error: 0.6221\n",
            "Epoch 63/100\n",
            "310/310 [==============================] - 1s 2ms/step - loss: 0.7467 - mean_absolute_error: 0.6466\n",
            "Epoch 64/100\n",
            "310/310 [==============================] - 1s 2ms/step - loss: 0.7754 - mean_absolute_error: 0.6608\n",
            "Epoch 65/100\n",
            "310/310 [==============================] - 1s 2ms/step - loss: 0.8367 - mean_absolute_error: 0.6739\n",
            "Epoch 66/100\n",
            "310/310 [==============================] - 1s 2ms/step - loss: 1.6024 - mean_absolute_error: 0.8114\n",
            "Epoch 67/100\n",
            "310/310 [==============================] - 1s 2ms/step - loss: 0.6495 - mean_absolute_error: 0.6046\n",
            "Epoch 68/100\n",
            "310/310 [==============================] - 1s 2ms/step - loss: 0.7631 - mean_absolute_error: 0.6436\n",
            "Epoch 69/100\n",
            "310/310 [==============================] - 1s 2ms/step - loss: 0.7834 - mean_absolute_error: 0.6603\n",
            "Epoch 70/100\n",
            "310/310 [==============================] - 1s 2ms/step - loss: 0.7041 - mean_absolute_error: 0.6340\n",
            "Epoch 71/100\n",
            "310/310 [==============================] - 1s 2ms/step - loss: 1.6764 - mean_absolute_error: 0.8681\n",
            "Epoch 72/100\n",
            "310/310 [==============================] - 1s 2ms/step - loss: 0.9659 - mean_absolute_error: 0.7066\n",
            "Epoch 73/100\n",
            "310/310 [==============================] - 1s 2ms/step - loss: 0.6630 - mean_absolute_error: 0.6114\n",
            "Epoch 74/100\n",
            "310/310 [==============================] - 1s 2ms/step - loss: 0.6850 - mean_absolute_error: 0.6205\n",
            "Epoch 75/100\n",
            "310/310 [==============================] - 1s 2ms/step - loss: 0.6524 - mean_absolute_error: 0.6072\n",
            "Epoch 76/100\n",
            "310/310 [==============================] - 1s 2ms/step - loss: 3.4997 - mean_absolute_error: 0.9926\n",
            "Epoch 77/100\n",
            "310/310 [==============================] - 1s 2ms/step - loss: 0.6532 - mean_absolute_error: 0.6023\n",
            "Epoch 78/100\n",
            "310/310 [==============================] - 1s 2ms/step - loss: 0.6446 - mean_absolute_error: 0.6022\n",
            "Epoch 79/100\n",
            "310/310 [==============================] - 1s 2ms/step - loss: 0.6487 - mean_absolute_error: 0.6014\n",
            "Epoch 80/100\n",
            "310/310 [==============================] - 1s 2ms/step - loss: 0.6523 - mean_absolute_error: 0.6037\n",
            "Epoch 81/100\n",
            "310/310 [==============================] - 1s 2ms/step - loss: 0.6459 - mean_absolute_error: 0.6035\n",
            "Epoch 82/100\n",
            "310/310 [==============================] - 1s 2ms/step - loss: 1.8372 - mean_absolute_error: 0.8622\n",
            "Epoch 83/100\n",
            "310/310 [==============================] - 1s 2ms/step - loss: 0.6900 - mean_absolute_error: 0.6224\n",
            "Epoch 84/100\n",
            "310/310 [==============================] - 1s 2ms/step - loss: 0.7156 - mean_absolute_error: 0.6277\n",
            "Epoch 85/100\n",
            "310/310 [==============================] - 1s 3ms/step - loss: 0.9482 - mean_absolute_error: 0.6924\n",
            "Epoch 86/100\n",
            "310/310 [==============================] - 1s 2ms/step - loss: 0.6453 - mean_absolute_error: 0.6020\n",
            "Epoch 87/100\n",
            "310/310 [==============================] - 1s 2ms/step - loss: 0.7730 - mean_absolute_error: 0.6556\n",
            "Epoch 88/100\n",
            "310/310 [==============================] - 1s 2ms/step - loss: 0.6779 - mean_absolute_error: 0.6128\n",
            "Epoch 89/100\n",
            "310/310 [==============================] - 1s 2ms/step - loss: 1.1809 - mean_absolute_error: 0.7366\n",
            "Epoch 90/100\n",
            "310/310 [==============================] - 1s 2ms/step - loss: 0.6772 - mean_absolute_error: 0.6165\n",
            "Epoch 91/100\n",
            "310/310 [==============================] - 1s 2ms/step - loss: 0.8114 - mean_absolute_error: 0.6731\n",
            "Epoch 92/100\n",
            "310/310 [==============================] - 1s 2ms/step - loss: 0.8202 - mean_absolute_error: 0.6697\n",
            "Epoch 93/100\n",
            "310/310 [==============================] - 1s 2ms/step - loss: 1.4288 - mean_absolute_error: 0.7574\n",
            "Epoch 94/100\n",
            "310/310 [==============================] - 1s 2ms/step - loss: 0.6662 - mean_absolute_error: 0.6112\n",
            "Epoch 95/100\n",
            "310/310 [==============================] - 1s 2ms/step - loss: 1.9662 - mean_absolute_error: 0.8790\n",
            "Epoch 96/100\n",
            "310/310 [==============================] - 1s 2ms/step - loss: 0.6187 - mean_absolute_error: 0.5888\n",
            "Epoch 97/100\n",
            "310/310 [==============================] - 1s 2ms/step - loss: 0.6306 - mean_absolute_error: 0.5937\n",
            "Epoch 98/100\n",
            "310/310 [==============================] - 1s 2ms/step - loss: 0.7038 - mean_absolute_error: 0.6291\n",
            "Epoch 99/100\n",
            "310/310 [==============================] - 1s 2ms/step - loss: 0.6511 - mean_absolute_error: 0.6041\n",
            "Epoch 100/100\n",
            "310/310 [==============================] - 1s 2ms/step - loss: 0.8543 - mean_absolute_error: 0.6805\n"
          ]
        },
        {
          "output_type": "execute_result",
          "data": {
            "text/plain": [
              "<keras.callbacks.History at 0x7bed36077580>"
            ]
          },
          "metadata": {},
          "execution_count": 23
        }
      ]
    },
    {
      "cell_type": "code",
      "source": [
        "prediction = model.predict(xtest)"
      ],
      "metadata": {
        "colab": {
          "base_uri": "https://localhost:8080/"
        },
        "id": "7wsk0HFVpZ7v",
        "outputId": "5974dde3-6aaa-40c4-8744-b316b34b95c3"
      },
      "execution_count": null,
      "outputs": [
        {
          "output_type": "stream",
          "name": "stdout",
          "text": [
            "162/162 [==============================] - 0s 1ms/step\n"
          ]
        }
      ]
    },
    {
      "cell_type": "code",
      "source": [
        "from sklearn.metrics import mean_absolute_error"
      ],
      "metadata": {
        "id": "U2k1iFf4rL3h"
      },
      "execution_count": null,
      "outputs": []
    },
    {
      "cell_type": "code",
      "source": [
        "mean_absolute_error(ytest, prediction)"
      ],
      "metadata": {
        "colab": {
          "base_uri": "https://localhost:8080/"
        },
        "id": "uqxGkZ1BrWqw",
        "outputId": "a3b8826d-9dd6-464c-cc02-b963573d53c6"
      },
      "execution_count": null,
      "outputs": [
        {
          "output_type": "execute_result",
          "data": {
            "text/plain": [
              "0.9304105406525635"
            ]
          },
          "metadata": {},
          "execution_count": 26
        }
      ]
    },
    {
      "cell_type": "markdown",
      "source": [
        "Decision Tree Regressor"
      ],
      "metadata": {
        "id": "osR5bzqhs0xT"
      }
    },
    {
      "cell_type": "code",
      "source": [
        "from sklearn.tree import DecisionTreeRegressor"
      ],
      "metadata": {
        "id": "WkFaSkpjre_5"
      },
      "execution_count": null,
      "outputs": []
    },
    {
      "cell_type": "code",
      "source": [
        "model1 = DecisionTreeRegressor()"
      ],
      "metadata": {
        "id": "GkANPSaAtYLx"
      },
      "execution_count": null,
      "outputs": []
    },
    {
      "cell_type": "code",
      "source": [
        "model1.fit(xtrain, ytrain)"
      ],
      "metadata": {
        "colab": {
          "base_uri": "https://localhost:8080/",
          "height": 75
        },
        "id": "pDZRSlAwuwcK",
        "outputId": "f7f8e1d1-f131-49e3-d3a4-16a680ac8708"
      },
      "execution_count": null,
      "outputs": [
        {
          "output_type": "execute_result",
          "data": {
            "text/plain": [
              "DecisionTreeRegressor()"
            ],
            "text/html": [
              "<style>#sk-container-id-1 {color: black;background-color: white;}#sk-container-id-1 pre{padding: 0;}#sk-container-id-1 div.sk-toggleable {background-color: white;}#sk-container-id-1 label.sk-toggleable__label {cursor: pointer;display: block;width: 100%;margin-bottom: 0;padding: 0.3em;box-sizing: border-box;text-align: center;}#sk-container-id-1 label.sk-toggleable__label-arrow:before {content: \"▸\";float: left;margin-right: 0.25em;color: #696969;}#sk-container-id-1 label.sk-toggleable__label-arrow:hover:before {color: black;}#sk-container-id-1 div.sk-estimator:hover label.sk-toggleable__label-arrow:before {color: black;}#sk-container-id-1 div.sk-toggleable__content {max-height: 0;max-width: 0;overflow: hidden;text-align: left;background-color: #f0f8ff;}#sk-container-id-1 div.sk-toggleable__content pre {margin: 0.2em;color: black;border-radius: 0.25em;background-color: #f0f8ff;}#sk-container-id-1 input.sk-toggleable__control:checked~div.sk-toggleable__content {max-height: 200px;max-width: 100%;overflow: auto;}#sk-container-id-1 input.sk-toggleable__control:checked~label.sk-toggleable__label-arrow:before {content: \"▾\";}#sk-container-id-1 div.sk-estimator input.sk-toggleable__control:checked~label.sk-toggleable__label {background-color: #d4ebff;}#sk-container-id-1 div.sk-label input.sk-toggleable__control:checked~label.sk-toggleable__label {background-color: #d4ebff;}#sk-container-id-1 input.sk-hidden--visually {border: 0;clip: rect(1px 1px 1px 1px);clip: rect(1px, 1px, 1px, 1px);height: 1px;margin: -1px;overflow: hidden;padding: 0;position: absolute;width: 1px;}#sk-container-id-1 div.sk-estimator {font-family: monospace;background-color: #f0f8ff;border: 1px dotted black;border-radius: 0.25em;box-sizing: border-box;margin-bottom: 0.5em;}#sk-container-id-1 div.sk-estimator:hover {background-color: #d4ebff;}#sk-container-id-1 div.sk-parallel-item::after {content: \"\";width: 100%;border-bottom: 1px solid gray;flex-grow: 1;}#sk-container-id-1 div.sk-label:hover label.sk-toggleable__label {background-color: #d4ebff;}#sk-container-id-1 div.sk-serial::before {content: \"\";position: absolute;border-left: 1px solid gray;box-sizing: border-box;top: 0;bottom: 0;left: 50%;z-index: 0;}#sk-container-id-1 div.sk-serial {display: flex;flex-direction: column;align-items: center;background-color: white;padding-right: 0.2em;padding-left: 0.2em;position: relative;}#sk-container-id-1 div.sk-item {position: relative;z-index: 1;}#sk-container-id-1 div.sk-parallel {display: flex;align-items: stretch;justify-content: center;background-color: white;position: relative;}#sk-container-id-1 div.sk-item::before, #sk-container-id-1 div.sk-parallel-item::before {content: \"\";position: absolute;border-left: 1px solid gray;box-sizing: border-box;top: 0;bottom: 0;left: 50%;z-index: -1;}#sk-container-id-1 div.sk-parallel-item {display: flex;flex-direction: column;z-index: 1;position: relative;background-color: white;}#sk-container-id-1 div.sk-parallel-item:first-child::after {align-self: flex-end;width: 50%;}#sk-container-id-1 div.sk-parallel-item:last-child::after {align-self: flex-start;width: 50%;}#sk-container-id-1 div.sk-parallel-item:only-child::after {width: 0;}#sk-container-id-1 div.sk-dashed-wrapped {border: 1px dashed gray;margin: 0 0.4em 0.5em 0.4em;box-sizing: border-box;padding-bottom: 0.4em;background-color: white;}#sk-container-id-1 div.sk-label label {font-family: monospace;font-weight: bold;display: inline-block;line-height: 1.2em;}#sk-container-id-1 div.sk-label-container {text-align: center;}#sk-container-id-1 div.sk-container {/* jupyter's `normalize.less` sets `[hidden] { display: none; }` but bootstrap.min.css set `[hidden] { display: none !important; }` so we also need the `!important` here to be able to override the default hidden behavior on the sphinx rendered scikit-learn.org. See: https://github.com/scikit-learn/scikit-learn/issues/21755 */display: inline-block !important;position: relative;}#sk-container-id-1 div.sk-text-repr-fallback {display: none;}</style><div id=\"sk-container-id-1\" class=\"sk-top-container\"><div class=\"sk-text-repr-fallback\"><pre>DecisionTreeRegressor()</pre><b>In a Jupyter environment, please rerun this cell to show the HTML representation or trust the notebook. <br />On GitHub, the HTML representation is unable to render, please try loading this page with nbviewer.org.</b></div><div class=\"sk-container\" hidden><div class=\"sk-item\"><div class=\"sk-estimator sk-toggleable\"><input class=\"sk-toggleable__control sk-hidden--visually\" id=\"sk-estimator-id-1\" type=\"checkbox\" checked><label for=\"sk-estimator-id-1\" class=\"sk-toggleable__label sk-toggleable__label-arrow\">DecisionTreeRegressor</label><div class=\"sk-toggleable__content\"><pre>DecisionTreeRegressor()</pre></div></div></div></div></div>"
            ]
          },
          "metadata": {},
          "execution_count": 29
        }
      ]
    },
    {
      "cell_type": "code",
      "source": [
        "prediction1 = model1.predict(xtest)"
      ],
      "metadata": {
        "id": "nIvP_fRQu_za"
      },
      "execution_count": null,
      "outputs": []
    },
    {
      "cell_type": "code",
      "source": [
        "mean_absolute_error(ytest, prediction1)"
      ],
      "metadata": {
        "colab": {
          "base_uri": "https://localhost:8080/"
        },
        "id": "mhKIIWm8vPsC",
        "outputId": "84bfa3c7-16a4-4d09-aecf-e193f516b920"
      },
      "execution_count": null,
      "outputs": [
        {
          "output_type": "execute_result",
          "data": {
            "text/plain": [
              "0.4628246259689923"
            ]
          },
          "metadata": {},
          "execution_count": 31
        }
      ]
    },
    {
      "cell_type": "markdown",
      "source": [
        "Linear Regression"
      ],
      "metadata": {
        "id": "9hQYa5fZwP7F"
      }
    },
    {
      "cell_type": "code",
      "source": [
        "from sklearn.linear_model import LinearRegression"
      ],
      "metadata": {
        "id": "XOhJOUQ0wUbs"
      },
      "execution_count": null,
      "outputs": []
    },
    {
      "cell_type": "code",
      "source": [
        "model2 = LinearRegression()"
      ],
      "metadata": {
        "id": "3i69_9VGwBF6"
      },
      "execution_count": null,
      "outputs": []
    },
    {
      "cell_type": "code",
      "source": [
        "model2.fit(xtrain, ytrain)"
      ],
      "metadata": {
        "colab": {
          "base_uri": "https://localhost:8080/",
          "height": 75
        },
        "id": "vw2gdPtVwSQi",
        "outputId": "ee929218-59d0-4dfd-f27c-4735dc65dab0"
      },
      "execution_count": null,
      "outputs": [
        {
          "output_type": "execute_result",
          "data": {
            "text/plain": [
              "LinearRegression()"
            ],
            "text/html": [
              "<style>#sk-container-id-2 {color: black;background-color: white;}#sk-container-id-2 pre{padding: 0;}#sk-container-id-2 div.sk-toggleable {background-color: white;}#sk-container-id-2 label.sk-toggleable__label {cursor: pointer;display: block;width: 100%;margin-bottom: 0;padding: 0.3em;box-sizing: border-box;text-align: center;}#sk-container-id-2 label.sk-toggleable__label-arrow:before {content: \"▸\";float: left;margin-right: 0.25em;color: #696969;}#sk-container-id-2 label.sk-toggleable__label-arrow:hover:before {color: black;}#sk-container-id-2 div.sk-estimator:hover label.sk-toggleable__label-arrow:before {color: black;}#sk-container-id-2 div.sk-toggleable__content {max-height: 0;max-width: 0;overflow: hidden;text-align: left;background-color: #f0f8ff;}#sk-container-id-2 div.sk-toggleable__content pre {margin: 0.2em;color: black;border-radius: 0.25em;background-color: #f0f8ff;}#sk-container-id-2 input.sk-toggleable__control:checked~div.sk-toggleable__content {max-height: 200px;max-width: 100%;overflow: auto;}#sk-container-id-2 input.sk-toggleable__control:checked~label.sk-toggleable__label-arrow:before {content: \"▾\";}#sk-container-id-2 div.sk-estimator input.sk-toggleable__control:checked~label.sk-toggleable__label {background-color: #d4ebff;}#sk-container-id-2 div.sk-label input.sk-toggleable__control:checked~label.sk-toggleable__label {background-color: #d4ebff;}#sk-container-id-2 input.sk-hidden--visually {border: 0;clip: rect(1px 1px 1px 1px);clip: rect(1px, 1px, 1px, 1px);height: 1px;margin: -1px;overflow: hidden;padding: 0;position: absolute;width: 1px;}#sk-container-id-2 div.sk-estimator {font-family: monospace;background-color: #f0f8ff;border: 1px dotted black;border-radius: 0.25em;box-sizing: border-box;margin-bottom: 0.5em;}#sk-container-id-2 div.sk-estimator:hover {background-color: #d4ebff;}#sk-container-id-2 div.sk-parallel-item::after {content: \"\";width: 100%;border-bottom: 1px solid gray;flex-grow: 1;}#sk-container-id-2 div.sk-label:hover label.sk-toggleable__label {background-color: #d4ebff;}#sk-container-id-2 div.sk-serial::before {content: \"\";position: absolute;border-left: 1px solid gray;box-sizing: border-box;top: 0;bottom: 0;left: 50%;z-index: 0;}#sk-container-id-2 div.sk-serial {display: flex;flex-direction: column;align-items: center;background-color: white;padding-right: 0.2em;padding-left: 0.2em;position: relative;}#sk-container-id-2 div.sk-item {position: relative;z-index: 1;}#sk-container-id-2 div.sk-parallel {display: flex;align-items: stretch;justify-content: center;background-color: white;position: relative;}#sk-container-id-2 div.sk-item::before, #sk-container-id-2 div.sk-parallel-item::before {content: \"\";position: absolute;border-left: 1px solid gray;box-sizing: border-box;top: 0;bottom: 0;left: 50%;z-index: -1;}#sk-container-id-2 div.sk-parallel-item {display: flex;flex-direction: column;z-index: 1;position: relative;background-color: white;}#sk-container-id-2 div.sk-parallel-item:first-child::after {align-self: flex-end;width: 50%;}#sk-container-id-2 div.sk-parallel-item:last-child::after {align-self: flex-start;width: 50%;}#sk-container-id-2 div.sk-parallel-item:only-child::after {width: 0;}#sk-container-id-2 div.sk-dashed-wrapped {border: 1px dashed gray;margin: 0 0.4em 0.5em 0.4em;box-sizing: border-box;padding-bottom: 0.4em;background-color: white;}#sk-container-id-2 div.sk-label label {font-family: monospace;font-weight: bold;display: inline-block;line-height: 1.2em;}#sk-container-id-2 div.sk-label-container {text-align: center;}#sk-container-id-2 div.sk-container {/* jupyter's `normalize.less` sets `[hidden] { display: none; }` but bootstrap.min.css set `[hidden] { display: none !important; }` so we also need the `!important` here to be able to override the default hidden behavior on the sphinx rendered scikit-learn.org. See: https://github.com/scikit-learn/scikit-learn/issues/21755 */display: inline-block !important;position: relative;}#sk-container-id-2 div.sk-text-repr-fallback {display: none;}</style><div id=\"sk-container-id-2\" class=\"sk-top-container\"><div class=\"sk-text-repr-fallback\"><pre>LinearRegression()</pre><b>In a Jupyter environment, please rerun this cell to show the HTML representation or trust the notebook. <br />On GitHub, the HTML representation is unable to render, please try loading this page with nbviewer.org.</b></div><div class=\"sk-container\" hidden><div class=\"sk-item\"><div class=\"sk-estimator sk-toggleable\"><input class=\"sk-toggleable__control sk-hidden--visually\" id=\"sk-estimator-id-2\" type=\"checkbox\" checked><label for=\"sk-estimator-id-2\" class=\"sk-toggleable__label sk-toggleable__label-arrow\">LinearRegression</label><div class=\"sk-toggleable__content\"><pre>LinearRegression()</pre></div></div></div></div></div>"
            ]
          },
          "metadata": {},
          "execution_count": 34
        }
      ]
    },
    {
      "cell_type": "code",
      "source": [
        "prediction2 = model2.predict(xtest)"
      ],
      "metadata": {
        "id": "Aolq_qYUxiJb"
      },
      "execution_count": null,
      "outputs": []
    },
    {
      "cell_type": "code",
      "source": [
        "mean_absolute_error(ytest, prediction2)"
      ],
      "metadata": {
        "colab": {
          "base_uri": "https://localhost:8080/"
        },
        "id": "8leG7Y3Axmwb",
        "outputId": "82fec933-5a51-42b1-a0c7-e33846017731"
      },
      "execution_count": null,
      "outputs": [
        {
          "output_type": "execute_result",
          "data": {
            "text/plain": [
              "0.5351008445282497"
            ]
          },
          "metadata": {},
          "execution_count": 36
        }
      ]
    },
    {
      "cell_type": "code",
      "source": [],
      "metadata": {
        "id": "37vJoqrHxrPb"
      },
      "execution_count": null,
      "outputs": []
    }
  ]
}